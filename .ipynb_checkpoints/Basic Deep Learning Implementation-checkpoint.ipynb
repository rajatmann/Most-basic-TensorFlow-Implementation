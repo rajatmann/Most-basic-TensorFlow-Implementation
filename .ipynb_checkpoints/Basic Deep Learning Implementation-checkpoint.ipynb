{
 "cells": [
  {
   "cell_type": "markdown",
   "id": "0619ad80",
   "metadata": {},
   "source": [
    "# Importing Libraries and Data"
   ]
  },
  {
   "cell_type": "code",
   "execution_count": 1,
   "id": "c10a51e0",
   "metadata": {},
   "outputs": [],
   "source": [
    "import pandas as pd\n",
    "import numpy as np"
   ]
  },
  {
   "cell_type": "code",
   "execution_count": 2,
   "id": "0c29d71a",
   "metadata": {},
   "outputs": [],
   "source": [
    "df = pd.read_csv('fake_reg.csv')"
   ]
  },
  {
   "cell_type": "code",
   "execution_count": 3,
   "id": "76b08e2a",
   "metadata": {},
   "outputs": [
    {
     "data": {
      "text/html": [
       "<div>\n",
       "<style scoped>\n",
       "    .dataframe tbody tr th:only-of-type {\n",
       "        vertical-align: middle;\n",
       "    }\n",
       "\n",
       "    .dataframe tbody tr th {\n",
       "        vertical-align: top;\n",
       "    }\n",
       "\n",
       "    .dataframe thead th {\n",
       "        text-align: right;\n",
       "    }\n",
       "</style>\n",
       "<table border=\"1\" class=\"dataframe\">\n",
       "  <thead>\n",
       "    <tr style=\"text-align: right;\">\n",
       "      <th></th>\n",
       "      <th>price</th>\n",
       "      <th>feature1</th>\n",
       "      <th>feature2</th>\n",
       "    </tr>\n",
       "  </thead>\n",
       "  <tbody>\n",
       "    <tr>\n",
       "      <th>0</th>\n",
       "      <td>461.527929</td>\n",
       "      <td>999.787558</td>\n",
       "      <td>999.766096</td>\n",
       "    </tr>\n",
       "    <tr>\n",
       "      <th>1</th>\n",
       "      <td>548.130011</td>\n",
       "      <td>998.861615</td>\n",
       "      <td>1001.042403</td>\n",
       "    </tr>\n",
       "    <tr>\n",
       "      <th>2</th>\n",
       "      <td>410.297162</td>\n",
       "      <td>1000.070267</td>\n",
       "      <td>998.844015</td>\n",
       "    </tr>\n",
       "    <tr>\n",
       "      <th>3</th>\n",
       "      <td>540.382220</td>\n",
       "      <td>999.952251</td>\n",
       "      <td>1000.440940</td>\n",
       "    </tr>\n",
       "    <tr>\n",
       "      <th>4</th>\n",
       "      <td>546.024553</td>\n",
       "      <td>1000.446011</td>\n",
       "      <td>1000.338531</td>\n",
       "    </tr>\n",
       "  </tbody>\n",
       "</table>\n",
       "</div>"
      ],
      "text/plain": [
       "        price     feature1     feature2\n",
       "0  461.527929   999.787558   999.766096\n",
       "1  548.130011   998.861615  1001.042403\n",
       "2  410.297162  1000.070267   998.844015\n",
       "3  540.382220   999.952251  1000.440940\n",
       "4  546.024553  1000.446011  1000.338531"
      ]
     },
     "execution_count": 3,
     "metadata": {},
     "output_type": "execute_result"
    }
   ],
   "source": [
    "df.head()"
   ]
  },
  {
   "cell_type": "markdown",
   "id": "436cbdb2",
   "metadata": {},
   "source": [
    "# Data Split and Model training"
   ]
  },
  {
   "cell_type": "code",
   "execution_count": 4,
   "id": "025512df",
   "metadata": {},
   "outputs": [],
   "source": [
    "from sklearn.model_selection import train_test_split"
   ]
  },
  {
   "cell_type": "code",
   "execution_count": 5,
   "id": "38f3c659",
   "metadata": {},
   "outputs": [],
   "source": [
    "X = df[['feature1', 'feature2']].values\n",
    "y = df['price'].values"
   ]
  },
  {
   "cell_type": "code",
   "execution_count": 6,
   "id": "5680d631",
   "metadata": {},
   "outputs": [],
   "source": [
    "X_train, X_test, y_train, y_test = train_test_split(X, y, test_size=0.3, random_state=42)"
   ]
  },
  {
   "cell_type": "code",
   "execution_count": 7,
   "id": "d088e731",
   "metadata": {},
   "outputs": [],
   "source": [
    "from sklearn.preprocessing import MinMaxScaler"
   ]
  },
  {
   "cell_type": "code",
   "execution_count": 8,
   "id": "29a0a133",
   "metadata": {},
   "outputs": [],
   "source": [
    "scaler = MinMaxScaler()"
   ]
  },
  {
   "cell_type": "code",
   "execution_count": 9,
   "id": "a2535cb8",
   "metadata": {},
   "outputs": [
    {
     "data": {
      "text/plain": [
       "MinMaxScaler()"
      ]
     },
     "execution_count": 9,
     "metadata": {},
     "output_type": "execute_result"
    }
   ],
   "source": [
    "scaler.fit(X_train)"
   ]
  },
  {
   "cell_type": "code",
   "execution_count": 10,
   "id": "138710f7",
   "metadata": {},
   "outputs": [],
   "source": [
    "X_train_scaled = scaler.transform(X_train)"
   ]
  },
  {
   "cell_type": "code",
   "execution_count": 22,
   "id": "1bad0d02",
   "metadata": {},
   "outputs": [],
   "source": [
    "X_test_scaled = scaler.transform(X_test)"
   ]
  },
  {
   "cell_type": "code",
   "execution_count": 12,
   "id": "38146a4f",
   "metadata": {},
   "outputs": [],
   "source": [
    "from tensorflow.keras.models import Sequential\n",
    "from tensorflow.keras.layers import Dense"
   ]
  },
  {
   "cell_type": "code",
   "execution_count": 13,
   "id": "aa41f257",
   "metadata": {},
   "outputs": [],
   "source": [
    "#help(Dense)"
   ]
  },
  {
   "cell_type": "code",
   "execution_count": 14,
   "id": "f799797f",
   "metadata": {},
   "outputs": [],
   "source": [
    "#1st method\n",
    "#model = Sequential([Dense(4,activation='relu'),Dense(2,'relu'),Dense(1)])"
   ]
  },
  {
   "cell_type": "code",
   "execution_count": 32,
   "id": "909e1ca8",
   "metadata": {},
   "outputs": [],
   "source": [
    "#2nd method\n",
    "model = Sequential()\n",
    "model.add(Dense(4,activation='relu'))\n",
    "model.add(Dense(2,activation='relu'))\n",
    "model.add(Dense(1))\n",
    "\n",
    "model.compile(optimizer='rmsprop', loss='mse' )\n",
    "\n",
    "# This method is better as we can comment out any layer at any time and rerun our cell."
   ]
  },
  {
   "cell_type": "code",
   "execution_count": 38,
   "id": "5e6323fc",
   "metadata": {
    "scrolled": true
   },
   "outputs": [
    {
     "name": "stdout",
     "output_type": "stream",
     "text": [
      "Epoch 1/250\n",
      "22/22 [==============================] - 0s 1ms/step - loss: 1472.1012\n",
      "Epoch 2/250\n",
      "22/22 [==============================] - 0s 1ms/step - loss: 1459.6956\n",
      "Epoch 3/250\n",
      "22/22 [==============================] - 0s 1ms/step - loss: 1449.1204\n",
      "Epoch 4/250\n",
      "22/22 [==============================] - 0s 1ms/step - loss: 1436.8458\n",
      "Epoch 5/250\n",
      "22/22 [==============================] - 0s 1ms/step - loss: 1424.7462\n",
      "Epoch 6/250\n",
      "22/22 [==============================] - 0s 1ms/step - loss: 1410.7850\n",
      "Epoch 7/250\n",
      "22/22 [==============================] - 0s 2ms/step - loss: 1397.7100\n",
      "Epoch 8/250\n",
      "22/22 [==============================] - 0s 2ms/step - loss: 1383.4712\n",
      "Epoch 9/250\n",
      "22/22 [==============================] - 0s 2ms/step - loss: 1371.3501\n",
      "Epoch 10/250\n",
      "22/22 [==============================] - 0s 2ms/step - loss: 1360.6567\n",
      "Epoch 11/250\n",
      "22/22 [==============================] - 0s 2ms/step - loss: 1349.4590\n",
      "Epoch 12/250\n",
      "22/22 [==============================] - 0s 2ms/step - loss: 1337.4027\n",
      "Epoch 13/250\n",
      "22/22 [==============================] - 0s 2ms/step - loss: 1324.0983\n",
      "Epoch 14/250\n",
      "22/22 [==============================] - 0s 2ms/step - loss: 1311.3066\n",
      "Epoch 15/250\n",
      "22/22 [==============================] - 0s 2ms/step - loss: 1298.3737\n",
      "Epoch 16/250\n",
      "22/22 [==============================] - 0s 2ms/step - loss: 1286.5161\n",
      "Epoch 17/250\n",
      "22/22 [==============================] - 0s 2ms/step - loss: 1274.8093\n",
      "Epoch 18/250\n",
      "22/22 [==============================] - 0s 2ms/step - loss: 1262.6729\n",
      "Epoch 19/250\n",
      "22/22 [==============================] - 0s 2ms/step - loss: 1251.6139\n",
      "Epoch 20/250\n",
      "22/22 [==============================] - 0s 2ms/step - loss: 1239.0862\n",
      "Epoch 21/250\n",
      "22/22 [==============================] - 0s 2ms/step - loss: 1226.5918\n",
      "Epoch 22/250\n",
      "22/22 [==============================] - 0s 2ms/step - loss: 1214.8575\n",
      "Epoch 23/250\n",
      "22/22 [==============================] - 0s 2ms/step - loss: 1203.6301\n",
      "Epoch 24/250\n",
      "22/22 [==============================] - 0s 2ms/step - loss: 1191.3762\n",
      "Epoch 25/250\n",
      "22/22 [==============================] - 0s 2ms/step - loss: 1179.0786\n",
      "Epoch 26/250\n",
      "22/22 [==============================] - 0s 1ms/step - loss: 1166.7410\n",
      "Epoch 27/250\n",
      "22/22 [==============================] - 0s 1ms/step - loss: 1155.7166\n",
      "Epoch 28/250\n",
      "22/22 [==============================] - 0s 1ms/step - loss: 1144.6614\n",
      "Epoch 29/250\n",
      "22/22 [==============================] - 0s 1ms/step - loss: 1133.9108\n",
      "Epoch 30/250\n",
      "22/22 [==============================] - 0s 1ms/step - loss: 1123.5000\n",
      "Epoch 31/250\n",
      "22/22 [==============================] - 0s 1ms/step - loss: 1111.7465\n",
      "Epoch 32/250\n",
      "22/22 [==============================] - 0s 1ms/step - loss: 1099.6855\n",
      "Epoch 33/250\n",
      "22/22 [==============================] - 0s 1ms/step - loss: 1087.8298\n",
      "Epoch 34/250\n",
      "22/22 [==============================] - 0s 1ms/step - loss: 1075.0526\n",
      "Epoch 35/250\n",
      "22/22 [==============================] - 0s 2ms/step - loss: 1063.1780\n",
      "Epoch 36/250\n",
      "22/22 [==============================] - 0s 2ms/step - loss: 1051.3264\n",
      "Epoch 37/250\n",
      "22/22 [==============================] - 0s 2ms/step - loss: 1039.0641\n",
      "Epoch 38/250\n",
      "22/22 [==============================] - 0s 2ms/step - loss: 1027.7150\n",
      "Epoch 39/250\n",
      "22/22 [==============================] - 0s 1ms/step - loss: 1017.0446\n",
      "Epoch 40/250\n",
      "22/22 [==============================] - 0s 1ms/step - loss: 1006.1160\n",
      "Epoch 41/250\n",
      "22/22 [==============================] - 0s 1ms/step - loss: 996.2693\n",
      "Epoch 42/250\n",
      "22/22 [==============================] - 0s 1ms/step - loss: 984.9309\n",
      "Epoch 43/250\n",
      "22/22 [==============================] - 0s 1ms/step - loss: 975.1321\n",
      "Epoch 44/250\n",
      "22/22 [==============================] - 0s 1ms/step - loss: 963.6371\n",
      "Epoch 45/250\n",
      "22/22 [==============================] - 0s 1ms/step - loss: 952.1509\n",
      "Epoch 46/250\n",
      "22/22 [==============================] - 0s 1ms/step - loss: 940.8217\n",
      "Epoch 47/250\n",
      "22/22 [==============================] - 0s 1ms/step - loss: 930.0837\n",
      "Epoch 48/250\n",
      "22/22 [==============================] - 0s 1ms/step - loss: 919.6041\n",
      "Epoch 49/250\n",
      "22/22 [==============================] - 0s 1ms/step - loss: 907.6761\n",
      "Epoch 50/250\n",
      "22/22 [==============================] - 0s 1ms/step - loss: 898.1057\n",
      "Epoch 51/250\n",
      "22/22 [==============================] - 0s 1ms/step - loss: 887.6144\n",
      "Epoch 52/250\n",
      "22/22 [==============================] - 0s 1ms/step - loss: 876.8723\n",
      "Epoch 53/250\n",
      "22/22 [==============================] - 0s 1ms/step - loss: 867.2529\n",
      "Epoch 54/250\n",
      "22/22 [==============================] - 0s 1ms/step - loss: 857.1328\n",
      "Epoch 55/250\n",
      "22/22 [==============================] - 0s 1ms/step - loss: 846.3283\n",
      "Epoch 56/250\n",
      "22/22 [==============================] - 0s 1ms/step - loss: 834.6823\n",
      "Epoch 57/250\n",
      "22/22 [==============================] - 0s 1ms/step - loss: 823.9566\n",
      "Epoch 58/250\n",
      "22/22 [==============================] - 0s 1ms/step - loss: 812.6790\n",
      "Epoch 59/250\n",
      "22/22 [==============================] - 0s 2ms/step - loss: 802.2371\n",
      "Epoch 60/250\n",
      "22/22 [==============================] - 0s 2ms/step - loss: 791.9061\n",
      "Epoch 61/250\n",
      "22/22 [==============================] - 0s 2ms/step - loss: 782.3550\n",
      "Epoch 62/250\n",
      "22/22 [==============================] - 0s 2ms/step - loss: 772.5278\n",
      "Epoch 63/250\n",
      "22/22 [==============================] - 0s 1ms/step - loss: 761.8384\n",
      "Epoch 64/250\n",
      "22/22 [==============================] - 0s 1ms/step - loss: 752.3674\n",
      "Epoch 65/250\n",
      "22/22 [==============================] - 0s 1ms/step - loss: 742.5284\n",
      "Epoch 66/250\n",
      "22/22 [==============================] - 0s 1ms/step - loss: 733.9858\n",
      "Epoch 67/250\n",
      "22/22 [==============================] - 0s 1ms/step - loss: 724.4482\n",
      "Epoch 68/250\n",
      "22/22 [==============================] - 0s 1ms/step - loss: 714.8492\n",
      "Epoch 69/250\n",
      "22/22 [==============================] - 0s 1ms/step - loss: 705.3649\n",
      "Epoch 70/250\n",
      "22/22 [==============================] - 0s 1ms/step - loss: 696.6866\n",
      "Epoch 71/250\n",
      "22/22 [==============================] - 0s 1ms/step - loss: 686.2162\n",
      "Epoch 72/250\n",
      "22/22 [==============================] - 0s 1ms/step - loss: 676.8777\n",
      "Epoch 73/250\n",
      "22/22 [==============================] - 0s 1ms/step - loss: 666.6043\n",
      "Epoch 74/250\n",
      "22/22 [==============================] - 0s 1ms/step - loss: 656.2333\n",
      "Epoch 75/250\n",
      "22/22 [==============================] - 0s 1ms/step - loss: 647.3186\n",
      "Epoch 76/250\n",
      "22/22 [==============================] - 0s 1ms/step - loss: 637.9570\n",
      "Epoch 77/250\n",
      "22/22 [==============================] - 0s 1ms/step - loss: 628.1639\n",
      "Epoch 78/250\n",
      "22/22 [==============================] - 0s 1ms/step - loss: 617.6486\n",
      "Epoch 79/250\n",
      "22/22 [==============================] - 0s 1ms/step - loss: 609.1039\n",
      "Epoch 80/250\n",
      "22/22 [==============================] - 0s 1ms/step - loss: 600.8235\n",
      "Epoch 81/250\n",
      "22/22 [==============================] - 0s 1ms/step - loss: 591.5207\n",
      "Epoch 82/250\n",
      "22/22 [==============================] - 0s 1ms/step - loss: 582.7629\n",
      "Epoch 83/250\n",
      "22/22 [==============================] - 0s 1ms/step - loss: 574.1312\n",
      "Epoch 84/250\n",
      "22/22 [==============================] - 0s 1ms/step - loss: 566.1788\n",
      "Epoch 85/250\n",
      "22/22 [==============================] - 0s 1ms/step - loss: 557.9099\n",
      "Epoch 86/250\n",
      "22/22 [==============================] - 0s 1ms/step - loss: 550.1068\n",
      "Epoch 87/250\n",
      "22/22 [==============================] - 0s 1ms/step - loss: 542.1276\n",
      "Epoch 88/250\n",
      "22/22 [==============================] - 0s 1ms/step - loss: 533.6556\n",
      "Epoch 89/250\n",
      "22/22 [==============================] - 0s 1ms/step - loss: 525.6048\n",
      "Epoch 90/250\n",
      "22/22 [==============================] - 0s 1ms/step - loss: 517.5214\n",
      "Epoch 91/250\n",
      "22/22 [==============================] - 0s 1ms/step - loss: 508.4266\n",
      "Epoch 92/250\n",
      "22/22 [==============================] - 0s 1ms/step - loss: 499.7420\n",
      "Epoch 93/250\n",
      "22/22 [==============================] - 0s 2ms/step - loss: 490.6254\n",
      "Epoch 94/250\n",
      "22/22 [==============================] - 0s 1ms/step - loss: 481.5800\n",
      "Epoch 95/250\n",
      "22/22 [==============================] - 0s 1ms/step - loss: 474.0769\n",
      "Epoch 96/250\n",
      "22/22 [==============================] - 0s 1ms/step - loss: 466.5375\n",
      "Epoch 97/250\n",
      "22/22 [==============================] - 0s 1ms/step - loss: 457.8453\n",
      "Epoch 98/250\n",
      "22/22 [==============================] - 0s 1ms/step - loss: 451.6305\n",
      "Epoch 99/250\n"
     ]
    },
    {
     "name": "stdout",
     "output_type": "stream",
     "text": [
      "22/22 [==============================] - 0s 1ms/step - loss: 443.7747\n",
      "Epoch 100/250\n",
      "22/22 [==============================] - 0s 1ms/step - loss: 436.4644\n",
      "Epoch 101/250\n",
      "22/22 [==============================] - 0s 1ms/step - loss: 428.9375\n",
      "Epoch 102/250\n",
      "22/22 [==============================] - 0s 1ms/step - loss: 422.1295\n",
      "Epoch 103/250\n",
      "22/22 [==============================] - 0s 1ms/step - loss: 415.0790\n",
      "Epoch 104/250\n",
      "22/22 [==============================] - 0s 1ms/step - loss: 408.9474\n",
      "Epoch 105/250\n",
      "22/22 [==============================] - 0s 1ms/step - loss: 402.5048\n",
      "Epoch 106/250\n",
      "22/22 [==============================] - 0s 1ms/step - loss: 395.2666\n",
      "Epoch 107/250\n",
      "22/22 [==============================] - 0s 1ms/step - loss: 387.0977\n",
      "Epoch 108/250\n",
      "22/22 [==============================] - 0s 1ms/step - loss: 379.7966\n",
      "Epoch 109/250\n",
      "22/22 [==============================] - 0s 1ms/step - loss: 372.9756\n",
      "Epoch 110/250\n",
      "22/22 [==============================] - 0s 1ms/step - loss: 365.6339\n",
      "Epoch 111/250\n",
      "22/22 [==============================] - 0s 1ms/step - loss: 358.7644\n",
      "Epoch 112/250\n",
      "22/22 [==============================] - 0s 1ms/step - loss: 352.0786\n",
      "Epoch 113/250\n",
      "22/22 [==============================] - 0s 1ms/step - loss: 345.0433\n",
      "Epoch 114/250\n",
      "22/22 [==============================] - 0s 1ms/step - loss: 338.7243\n",
      "Epoch 115/250\n",
      "22/22 [==============================] - 0s 1ms/step - loss: 332.2173\n",
      "Epoch 116/250\n",
      "22/22 [==============================] - 0s 1ms/step - loss: 325.2823\n",
      "Epoch 117/250\n",
      "22/22 [==============================] - 0s 1ms/step - loss: 318.5269\n",
      "Epoch 118/250\n",
      "22/22 [==============================] - 0s 1ms/step - loss: 312.3510\n",
      "Epoch 119/250\n",
      "22/22 [==============================] - 0s 1ms/step - loss: 306.1162\n",
      "Epoch 120/250\n",
      "22/22 [==============================] - 0s 1ms/step - loss: 299.5898\n",
      "Epoch 121/250\n",
      "22/22 [==============================] - 0s 1ms/step - loss: 293.7136\n",
      "Epoch 122/250\n",
      "22/22 [==============================] - 0s 1ms/step - loss: 288.2743\n",
      "Epoch 123/250\n",
      "22/22 [==============================] - 0s 1ms/step - loss: 282.5562\n",
      "Epoch 124/250\n",
      "22/22 [==============================] - 0s 1ms/step - loss: 276.5659\n",
      "Epoch 125/250\n",
      "22/22 [==============================] - 0s 1ms/step - loss: 270.9165\n",
      "Epoch 126/250\n",
      "22/22 [==============================] - 0s 1ms/step - loss: 265.8863\n",
      "Epoch 127/250\n",
      "22/22 [==============================] - 0s 1ms/step - loss: 260.4951\n",
      "Epoch 128/250\n",
      "22/22 [==============================] - 0s 1ms/step - loss: 254.9978\n",
      "Epoch 129/250\n",
      "22/22 [==============================] - 0s 1ms/step - loss: 249.4204\n",
      "Epoch 130/250\n",
      "22/22 [==============================] - 0s 1ms/step - loss: 244.3672\n",
      "Epoch 131/250\n",
      "22/22 [==============================] - 0s 1ms/step - loss: 238.6445\n",
      "Epoch 132/250\n",
      "22/22 [==============================] - 0s 1ms/step - loss: 233.6348\n",
      "Epoch 133/250\n",
      "22/22 [==============================] - 0s 1ms/step - loss: 227.7765\n",
      "Epoch 134/250\n",
      "22/22 [==============================] - 0s 1ms/step - loss: 221.7578\n",
      "Epoch 135/250\n",
      "22/22 [==============================] - 0s 1ms/step - loss: 217.3754\n",
      "Epoch 136/250\n",
      "22/22 [==============================] - 0s 1ms/step - loss: 212.5723\n",
      "Epoch 137/250\n",
      "22/22 [==============================] - 0s 1ms/step - loss: 207.7449\n",
      "Epoch 138/250\n",
      "22/22 [==============================] - 0s 1ms/step - loss: 202.6726\n",
      "Epoch 139/250\n",
      "22/22 [==============================] - 0s 1ms/step - loss: 197.8111\n",
      "Epoch 140/250\n",
      "22/22 [==============================] - 0s 1ms/step - loss: 192.8013\n",
      "Epoch 141/250\n",
      "22/22 [==============================] - 0s 1ms/step - loss: 188.2131\n",
      "Epoch 142/250\n",
      "22/22 [==============================] - 0s 1ms/step - loss: 183.2862\n",
      "Epoch 143/250\n",
      "22/22 [==============================] - 0s 1ms/step - loss: 178.5672\n",
      "Epoch 144/250\n",
      "22/22 [==============================] - 0s 1ms/step - loss: 174.6457\n",
      "Epoch 145/250\n",
      "22/22 [==============================] - 0s 1ms/step - loss: 170.1639\n",
      "Epoch 146/250\n",
      "22/22 [==============================] - 0s 1ms/step - loss: 166.3705\n",
      "Epoch 147/250\n",
      "22/22 [==============================] - 0s 1ms/step - loss: 161.7800\n",
      "Epoch 148/250\n",
      "22/22 [==============================] - 0s 1ms/step - loss: 157.3594\n",
      "Epoch 149/250\n",
      "22/22 [==============================] - 0s 1ms/step - loss: 153.4947\n",
      "Epoch 150/250\n",
      "22/22 [==============================] - 0s 1ms/step - loss: 149.6103\n",
      "Epoch 151/250\n",
      "22/22 [==============================] - 0s 1ms/step - loss: 145.5838\n",
      "Epoch 152/250\n",
      "22/22 [==============================] - 0s 1ms/step - loss: 141.9410\n",
      "Epoch 153/250\n",
      "22/22 [==============================] - 0s 1ms/step - loss: 138.2659\n",
      "Epoch 154/250\n",
      "22/22 [==============================] - 0s 1ms/step - loss: 134.1945\n",
      "Epoch 155/250\n",
      "22/22 [==============================] - 0s 1ms/step - loss: 130.3867\n",
      "Epoch 156/250\n",
      "22/22 [==============================] - 0s 1ms/step - loss: 126.5080\n",
      "Epoch 157/250\n",
      "22/22 [==============================] - 0s 1ms/step - loss: 122.9398\n",
      "Epoch 158/250\n",
      "22/22 [==============================] - 0s 1ms/step - loss: 119.0750\n",
      "Epoch 159/250\n",
      "22/22 [==============================] - 0s 1ms/step - loss: 115.8155\n",
      "Epoch 160/250\n",
      "22/22 [==============================] - 0s 1ms/step - loss: 112.5162\n",
      "Epoch 161/250\n",
      "22/22 [==============================] - 0s 1ms/step - loss: 109.3806\n",
      "Epoch 162/250\n",
      "22/22 [==============================] - 0s 1ms/step - loss: 106.2521\n",
      "Epoch 163/250\n",
      "22/22 [==============================] - 0s 1ms/step - loss: 102.7576\n",
      "Epoch 164/250\n",
      "22/22 [==============================] - 0s 1ms/step - loss: 99.5933\n",
      "Epoch 165/250\n",
      "22/22 [==============================] - 0s 1ms/step - loss: 96.7131\n",
      "Epoch 166/250\n",
      "22/22 [==============================] - 0s 1ms/step - loss: 93.7156\n",
      "Epoch 167/250\n",
      "22/22 [==============================] - 0s 1ms/step - loss: 90.7850\n",
      "Epoch 168/250\n",
      "22/22 [==============================] - 0s 1ms/step - loss: 87.6383\n",
      "Epoch 169/250\n",
      "22/22 [==============================] - 0s 1ms/step - loss: 84.9925\n",
      "Epoch 170/250\n",
      "22/22 [==============================] - 0s 1ms/step - loss: 82.2419\n",
      "Epoch 171/250\n",
      "22/22 [==============================] - 0s 1ms/step - loss: 79.6667\n",
      "Epoch 172/250\n",
      "22/22 [==============================] - 0s 2ms/step - loss: 76.8511\n",
      "Epoch 173/250\n",
      "22/22 [==============================] - 0s 1ms/step - loss: 74.9199\n",
      "Epoch 174/250\n",
      "22/22 [==============================] - 0s 1ms/step - loss: 72.8138\n",
      "Epoch 175/250\n",
      "22/22 [==============================] - 0s 1ms/step - loss: 70.2154\n",
      "Epoch 176/250\n",
      "22/22 [==============================] - 0s 1ms/step - loss: 67.8885\n",
      "Epoch 177/250\n",
      "22/22 [==============================] - 0s 1ms/step - loss: 65.6938\n",
      "Epoch 178/250\n",
      "22/22 [==============================] - 0s 1ms/step - loss: 63.5264\n",
      "Epoch 179/250\n",
      "22/22 [==============================] - 0s 1ms/step - loss: 61.3129\n",
      "Epoch 180/250\n",
      "22/22 [==============================] - 0s 1ms/step - loss: 59.8733\n",
      "Epoch 181/250\n",
      "22/22 [==============================] - 0s 1ms/step - loss: 57.8364\n",
      "Epoch 182/250\n",
      "22/22 [==============================] - 0s 1ms/step - loss: 56.0902\n",
      "Epoch 183/250\n",
      "22/22 [==============================] - 0s 1ms/step - loss: 54.4247\n",
      "Epoch 184/250\n",
      "22/22 [==============================] - 0s 1ms/step - loss: 52.7536\n",
      "Epoch 185/250\n",
      "22/22 [==============================] - 0s 1ms/step - loss: 51.2191\n",
      "Epoch 186/250\n",
      "22/22 [==============================] - 0s 1ms/step - loss: 49.6144\n",
      "Epoch 187/250\n",
      "22/22 [==============================] - 0s 1ms/step - loss: 48.2441\n",
      "Epoch 188/250\n",
      "22/22 [==============================] - 0s 1ms/step - loss: 46.6968\n",
      "Epoch 189/250\n",
      "22/22 [==============================] - 0s 1ms/step - loss: 45.6002\n",
      "Epoch 190/250\n",
      "22/22 [==============================] - 0s 1ms/step - loss: 44.1365\n",
      "Epoch 191/250\n",
      "22/22 [==============================] - 0s 1ms/step - loss: 42.8278\n",
      "Epoch 192/250\n",
      "22/22 [==============================] - 0s 1ms/step - loss: 41.7957\n",
      "Epoch 193/250\n",
      "22/22 [==============================] - 0s 1ms/step - loss: 40.7207\n",
      "Epoch 194/250\n",
      "22/22 [==============================] - 0s 1ms/step - loss: 39.6929\n",
      "Epoch 195/250\n",
      "22/22 [==============================] - 0s 1ms/step - loss: 38.6440\n",
      "Epoch 196/250\n",
      "22/22 [==============================] - 0s 1ms/step - loss: 37.7020\n",
      "Epoch 197/250\n"
     ]
    },
    {
     "name": "stdout",
     "output_type": "stream",
     "text": [
      "22/22 [==============================] - 0s 1ms/step - loss: 36.7800\n",
      "Epoch 198/250\n",
      "22/22 [==============================] - 0s 1ms/step - loss: 35.8992\n",
      "Epoch 199/250\n",
      "22/22 [==============================] - 0s 1ms/step - loss: 35.2083\n",
      "Epoch 200/250\n",
      "22/22 [==============================] - 0s 1ms/step - loss: 34.3368\n",
      "Epoch 201/250\n",
      "22/22 [==============================] - 0s 1ms/step - loss: 33.5292\n",
      "Epoch 202/250\n",
      "22/22 [==============================] - 0s 1ms/step - loss: 32.5307\n",
      "Epoch 203/250\n",
      "22/22 [==============================] - 0s 1ms/step - loss: 31.9837\n",
      "Epoch 204/250\n",
      "22/22 [==============================] - 0s 1ms/step - loss: 31.4159\n",
      "Epoch 205/250\n",
      "22/22 [==============================] - 0s 1ms/step - loss: 30.7862\n",
      "Epoch 206/250\n",
      "22/22 [==============================] - 0s 1ms/step - loss: 30.1655\n",
      "Epoch 207/250\n",
      "22/22 [==============================] - 0s 1ms/step - loss: 29.6517\n",
      "Epoch 208/250\n",
      "22/22 [==============================] - 0s 1ms/step - loss: 29.1142\n",
      "Epoch 209/250\n",
      "22/22 [==============================] - 0s 1ms/step - loss: 28.6594\n",
      "Epoch 210/250\n",
      "22/22 [==============================] - 0s 1ms/step - loss: 28.1692\n",
      "Epoch 211/250\n",
      "22/22 [==============================] - 0s 1ms/step - loss: 28.0774\n",
      "Epoch 212/250\n",
      "22/22 [==============================] - 0s 1ms/step - loss: 27.7119\n",
      "Epoch 213/250\n",
      "22/22 [==============================] - 0s 1ms/step - loss: 27.3497\n",
      "Epoch 214/250\n",
      "22/22 [==============================] - 0s 1ms/step - loss: 27.3707\n",
      "Epoch 215/250\n",
      "22/22 [==============================] - 0s 1ms/step - loss: 26.8491\n",
      "Epoch 216/250\n",
      "22/22 [==============================] - 0s 1ms/step - loss: 26.7152\n",
      "Epoch 217/250\n",
      "22/22 [==============================] - 0s 1ms/step - loss: 26.3360\n",
      "Epoch 218/250\n",
      "22/22 [==============================] - 0s 1ms/step - loss: 26.2447\n",
      "Epoch 219/250\n",
      "22/22 [==============================] - 0s 1ms/step - loss: 25.9260\n",
      "Epoch 220/250\n",
      "22/22 [==============================] - 0s 1ms/step - loss: 25.8524\n",
      "Epoch 221/250\n",
      "22/22 [==============================] - 0s 1ms/step - loss: 25.5594\n",
      "Epoch 222/250\n",
      "22/22 [==============================] - 0s 1ms/step - loss: 25.5337\n",
      "Epoch 223/250\n",
      "22/22 [==============================] - 0s 1ms/step - loss: 25.4696\n",
      "Epoch 224/250\n",
      "22/22 [==============================] - 0s 1ms/step - loss: 25.1039\n",
      "Epoch 225/250\n",
      "22/22 [==============================] - 0s 1ms/step - loss: 25.2332\n",
      "Epoch 226/250\n",
      "22/22 [==============================] - 0s 1ms/step - loss: 25.0224\n",
      "Epoch 227/250\n",
      "22/22 [==============================] - 0s 1ms/step - loss: 24.9025\n",
      "Epoch 228/250\n",
      "22/22 [==============================] - 0s 1ms/step - loss: 24.7778\n",
      "Epoch 229/250\n",
      "22/22 [==============================] - 0s 1ms/step - loss: 24.5862\n",
      "Epoch 230/250\n",
      "22/22 [==============================] - 0s 1ms/step - loss: 24.6790\n",
      "Epoch 231/250\n",
      "22/22 [==============================] - 0s 1ms/step - loss: 24.5806\n",
      "Epoch 232/250\n",
      "22/22 [==============================] - 0s 1ms/step - loss: 24.4593\n",
      "Epoch 233/250\n",
      "22/22 [==============================] - 0s 1ms/step - loss: 24.6306\n",
      "Epoch 234/250\n",
      "22/22 [==============================] - 0s 1ms/step - loss: 24.3792\n",
      "Epoch 235/250\n",
      "22/22 [==============================] - 0s 1ms/step - loss: 24.3321\n",
      "Epoch 236/250\n",
      "22/22 [==============================] - 0s 1ms/step - loss: 24.2981\n",
      "Epoch 237/250\n",
      "22/22 [==============================] - 0s 1ms/step - loss: 24.2766\n",
      "Epoch 238/250\n",
      "22/22 [==============================] - 0s 1ms/step - loss: 24.3904\n",
      "Epoch 239/250\n",
      "22/22 [==============================] - 0s 1ms/step - loss: 24.1064\n",
      "Epoch 240/250\n",
      "22/22 [==============================] - 0s 1ms/step - loss: 24.2348\n",
      "Epoch 241/250\n",
      "22/22 [==============================] - 0s 2ms/step - loss: 24.1001\n",
      "Epoch 242/250\n",
      "22/22 [==============================] - 0s 1ms/step - loss: 24.0827\n",
      "Epoch 243/250\n",
      "22/22 [==============================] - 0s 1ms/step - loss: 24.0647\n",
      "Epoch 244/250\n",
      "22/22 [==============================] - 0s 1ms/step - loss: 24.0818\n",
      "Epoch 245/250\n",
      "22/22 [==============================] - 0s 1ms/step - loss: 24.0648\n",
      "Epoch 246/250\n",
      "22/22 [==============================] - 0s 1ms/step - loss: 24.0888\n",
      "Epoch 247/250\n",
      "22/22 [==============================] - 0s 1ms/step - loss: 23.9917\n",
      "Epoch 248/250\n",
      "22/22 [==============================] - 0s 1ms/step - loss: 24.0281\n",
      "Epoch 249/250\n",
      "22/22 [==============================] - 0s 1ms/step - loss: 24.0576\n",
      "Epoch 250/250\n",
      "22/22 [==============================] - 0s 1ms/step - loss: 24.0533\n"
     ]
    },
    {
     "data": {
      "text/plain": [
       "<keras.src.callbacks.History at 0x1a2f3da9ca0>"
      ]
     },
     "execution_count": 38,
     "metadata": {},
     "output_type": "execute_result"
    }
   ],
   "source": [
    "model.fit(X_train_scaled,y_train, epochs=250)"
   ]
  },
  {
   "cell_type": "code",
   "execution_count": 39,
   "id": "d26eac88",
   "metadata": {},
   "outputs": [],
   "source": [
    "loss_df = pd.DataFrame(model.history.history)"
   ]
  },
  {
   "cell_type": "code",
   "execution_count": 40,
   "id": "585b57ee",
   "metadata": {},
   "outputs": [
    {
     "data": {
      "text/plain": [
       "<AxesSubplot:>"
      ]
     },
     "execution_count": 40,
     "metadata": {},
     "output_type": "execute_result"
    },
    {
     "data": {
      "image/png": "[encoded data removed]",
      "text/plain": [
       "<Figure size 640x480 with 1 Axes>"
      ]
     },
     "metadata": {},
     "output_type": "display_data"
    }
   ],
   "source": [
    "loss_df.plot()"
   ]
  },
  {
   "cell_type": "markdown",
   "id": "fcedf022",
   "metadata": {},
   "source": [
    "#  Model evaluation"
   ]
  },
  {
   "cell_type": "code",
   "execution_count": 41,
   "id": "a4335f56",
   "metadata": {},
   "outputs": [
    {
     "data": {
      "text/plain": [
       "25.05875587463379"
      ]
     },
     "execution_count": 41,
     "metadata": {},
     "output_type": "execute_result"
    }
   ],
   "source": [
    "model.evaluate(X_test_scaled, y_test, verbose=0)"
   ]
  },
  {
   "cell_type": "code",
   "execution_count": 42,
   "id": "360003ab",
   "metadata": {},
   "outputs": [
    {
     "name": "stdout",
     "output_type": "stream",
     "text": [
      "22/22 [==============================] - 0s 1ms/step - loss: 24.0032\n"
     ]
    },
    {
     "data": {
      "text/plain": [
       "24.00316619873047"
      ]
     },
     "execution_count": 42,
     "metadata": {},
     "output_type": "execute_result"
    }
   ],
   "source": [
    "model.evaluate(X_train_scaled,y_train)"
   ]
  },
  {
   "cell_type": "code",
   "execution_count": 43,
   "id": "16c439dc",
   "metadata": {},
   "outputs": [
    {
     "name": "stdout",
     "output_type": "stream",
     "text": [
      "10/10 [==============================] - 0s 2ms/step\n"
     ]
    }
   ],
   "source": [
    "test_predictions = model.predict(X_test_scaled)"
   ]
  },
  {
   "cell_type": "code",
   "execution_count": 44,
   "id": "18f612d5",
   "metadata": {},
   "outputs": [],
   "source": [
    "test_predictions = pd.Series(test_predictions.reshape(300,))"
   ]
  },
  {
   "cell_type": "code",
   "execution_count": 45,
   "id": "0418f98c",
   "metadata": {},
   "outputs": [
    {
     "data": {
      "text/plain": [
       "0      405.510193\n",
       "1      623.153442\n",
       "2      591.760071\n",
       "3      572.148926\n",
       "4      367.262634\n",
       "          ...    \n",
       "295    529.063477\n",
       "296    515.765442\n",
       "297    609.268066\n",
       "298    416.993530\n",
       "299    411.202576\n",
       "Length: 300, dtype: float32"
      ]
     },
     "execution_count": 45,
     "metadata": {},
     "output_type": "execute_result"
    }
   ],
   "source": [
    "test_predictions"
   ]
  },
  {
   "cell_type": "code",
   "execution_count": 46,
   "id": "7c320f0a",
   "metadata": {},
   "outputs": [],
   "source": [
    "pred_df = pd.DataFrame(y_test,columns=['True Y'])"
   ]
  },
  {
   "cell_type": "code",
   "execution_count": 47,
   "id": "c71b6970",
   "metadata": {},
   "outputs": [],
   "source": [
    "pred_df = pd.concat([pred_df,test_predictions], axis = 1)"
   ]
  },
  {
   "cell_type": "code",
   "execution_count": 49,
   "id": "60be3308",
   "metadata": {},
   "outputs": [],
   "source": [
    "pred_df.columns = ['Test True Y', \"Model Preds\"]"
   ]
  },
  {
   "cell_type": "code",
   "execution_count": 50,
   "id": "9f3a8475",
   "metadata": {},
   "outputs": [
    {
     "data": {
      "text/html": [
       "<div>\n",
       "<style scoped>\n",
       "    .dataframe tbody tr th:only-of-type {\n",
       "        vertical-align: middle;\n",
       "    }\n",
       "\n",
       "    .dataframe tbody tr th {\n",
       "        vertical-align: top;\n",
       "    }\n",
       "\n",
       "    .dataframe thead th {\n",
       "        text-align: right;\n",
       "    }\n",
       "</style>\n",
       "<table border=\"1\" class=\"dataframe\">\n",
       "  <thead>\n",
       "    <tr style=\"text-align: right;\">\n",
       "      <th></th>\n",
       "      <th>Test True Y</th>\n",
       "      <th>Model Preds</th>\n",
       "    </tr>\n",
       "  </thead>\n",
       "  <tbody>\n",
       "    <tr>\n",
       "      <th>0</th>\n",
       "      <td>402.296319</td>\n",
       "      <td>405.510193</td>\n",
       "    </tr>\n",
       "    <tr>\n",
       "      <th>1</th>\n",
       "      <td>624.156198</td>\n",
       "      <td>623.153442</td>\n",
       "    </tr>\n",
       "    <tr>\n",
       "      <th>2</th>\n",
       "      <td>582.455066</td>\n",
       "      <td>591.760071</td>\n",
       "    </tr>\n",
       "    <tr>\n",
       "      <th>3</th>\n",
       "      <td>578.588606</td>\n",
       "      <td>572.148926</td>\n",
       "    </tr>\n",
       "    <tr>\n",
       "      <th>4</th>\n",
       "      <td>371.224104</td>\n",
       "      <td>367.262634</td>\n",
       "    </tr>\n",
       "    <tr>\n",
       "      <th>...</th>\n",
       "      <td>...</td>\n",
       "      <td>...</td>\n",
       "    </tr>\n",
       "    <tr>\n",
       "      <th>295</th>\n",
       "      <td>525.704657</td>\n",
       "      <td>529.063477</td>\n",
       "    </tr>\n",
       "    <tr>\n",
       "      <th>296</th>\n",
       "      <td>502.909473</td>\n",
       "      <td>515.765442</td>\n",
       "    </tr>\n",
       "    <tr>\n",
       "      <th>297</th>\n",
       "      <td>612.727910</td>\n",
       "      <td>609.268066</td>\n",
       "    </tr>\n",
       "    <tr>\n",
       "      <th>298</th>\n",
       "      <td>417.569725</td>\n",
       "      <td>416.993530</td>\n",
       "    </tr>\n",
       "    <tr>\n",
       "      <th>299</th>\n",
       "      <td>410.538250</td>\n",
       "      <td>411.202576</td>\n",
       "    </tr>\n",
       "  </tbody>\n",
       "</table>\n",
       "<p>300 rows × 2 columns</p>\n",
       "</div>"
      ],
      "text/plain": [
       "     Test True Y  Model Preds\n",
       "0     402.296319   405.510193\n",
       "1     624.156198   623.153442\n",
       "2     582.455066   591.760071\n",
       "3     578.588606   572.148926\n",
       "4     371.224104   367.262634\n",
       "..           ...          ...\n",
       "295   525.704657   529.063477\n",
       "296   502.909473   515.765442\n",
       "297   612.727910   609.268066\n",
       "298   417.569725   416.993530\n",
       "299   410.538250   411.202576\n",
       "\n",
       "[300 rows x 2 columns]"
      ]
     },
     "execution_count": 50,
     "metadata": {},
     "output_type": "execute_result"
    }
   ],
   "source": [
    "pred_df"
   ]
  },
  {
   "cell_type": "code",
   "execution_count": 51,
   "id": "3e04bcc1",
   "metadata": {},
   "outputs": [],
   "source": [
    "import matplotlib.pyplot as plt\n",
    "%matplotlib inline"
   ]
  },
  {
   "cell_type": "code",
   "execution_count": 58,
   "id": "5433c88a",
   "metadata": {},
   "outputs": [],
   "source": [
    "import seaborn as sns"
   ]
  },
  {
   "cell_type": "code",
   "execution_count": 62,
   "id": "f89a1456",
   "metadata": {},
   "outputs": [
    {
     "data": {
      "text/plain": [
       "<AxesSubplot:xlabel='Test True Y', ylabel='Model Preds'>"
      ]
     },
     "execution_count": 62,
     "metadata": {},
     "output_type": "execute_result"
    },
    {
     "data": {
      "image/png": "[encoded data removed]",
      "text/plain": [
       "<Figure size 640x480 with 1 Axes>"
      ]
     },
     "metadata": {},
     "output_type": "display_data"
    }
   ],
   "source": [
    "sns.scatterplot(x='Test True Y', y='Model Preds' ,data = pred_df)"
   ]
  },
  {
   "cell_type": "code",
   "execution_count": 67,
   "id": "52086e58",
   "metadata": {},
   "outputs": [],
   "source": [
    "from sklearn.metrics import mean_absolute_error, mean_squared_error"
   ]
  },
  {
   "cell_type": "code",
   "execution_count": 69,
   "id": "dc9345c3",
   "metadata": {},
   "outputs": [
    {
     "data": {
      "text/plain": [
       "4.023981283564486"
      ]
     },
     "execution_count": 69,
     "metadata": {},
     "output_type": "execute_result"
    }
   ],
   "source": [
    "mean_absolute_error(test_predictions, y_test)"
   ]
  },
  {
   "cell_type": "code",
   "execution_count": 70,
   "id": "b298bca6",
   "metadata": {},
   "outputs": [
    {
     "data": {
      "text/plain": [
       "25.05876006896608"
      ]
     },
     "execution_count": 70,
     "metadata": {},
     "output_type": "execute_result"
    }
   ],
   "source": [
    "mean_squared_error(test_predictions, y_test)"
   ]
  },
  {
   "cell_type": "markdown",
   "id": "0137c6d4",
   "metadata": {},
   "source": [
    "#### Model is performing pretty well when it is run twice using 250 epochs each time."
   ]
  },
  {
   "cell_type": "code",
   "execution_count": 71,
   "id": "135f023b",
   "metadata": {},
   "outputs": [],
   "source": [
    "from tensorflow.keras.models import load_model"
   ]
  },
  {
   "cell_type": "code",
   "execution_count": 72,
   "id": "32612835",
   "metadata": {},
   "outputs": [
    {
     "name": "stderr",
     "output_type": "stream",
     "text": [
      "C:\\Users\\rajat\\anaconda3\\lib\\site-packages\\keras\\src\\engine\\training.py:3079: UserWarning: You are saving your model as an HDF5 file via `model.save()`. This file format is considered legacy. We recommend using instead the native Keras format, e.g. `model.save('my_model.keras')`.\n",
      "  saving_api.save_model(\n"
     ]
    }
   ],
   "source": [
    "model.save('my_first_model.h5')"
   ]
  },
  {
   "cell_type": "code",
   "execution_count": 73,
   "id": "f77e8b61",
   "metadata": {},
   "outputs": [],
   "source": [
    "later_model = load_model('my_first_model.h5')"
   ]
  }
 ],
 "metadata": {
  "kernelspec": {
   "display_name": "Python 3 (ipykernel)",
   "language": "python",
   "name": "python3"
  },
  "language_info": {
   "codemirror_mode": {
    "name": "ipython",
    "version": 3
   },
   "file_extension": ".py",
   "mimetype": "text/x-python",
   "name": "python",
   "nbconvert_exporter": "python",
   "pygments_lexer": "ipython3",
   "version": "3.9.13"
  }
 },
 "nbformat": 4,
 "nbformat_minor": 5
}
